{
  "nbformat": 4,
  "nbformat_minor": 0,
  "metadata": {
    "colab": {
      "provenance": [],
      "gpuType": "T4",
      "toc_visible": true
    },
    "kernelspec": {
      "name": "python3",
      "display_name": "Python 3"
    },
    "language_info": {
      "name": "python"
    },
    "accelerator": "GPU"
  },
  "cells": [
    {
      "cell_type": "code",
      "source": [
        "# Copyright 2024 Reddit, Inc.\n",
        "#\n",
        "# Licensed under the Apache License, Version 2.0 (the \"License\");\n",
        "# you may not use this file except in compliance with the License.\n",
        "# You may obtain a copy of the License at\n",
        "#\n",
        "#     https://www.apache.org/licenses/LICENSE-2.0\n",
        "#\n",
        "# Unless required by applicable law or agreed to in writing, software\n",
        "# distributed under the License is distributed on an \"AS IS\" BASIS,\n",
        "# WITHOUT WARRANTIES OR CONDITIONS OF ANY KIND, either express or implied.\n",
        "# See the License for the specific language governing permissions and\n",
        "# limitations under the License."
      ],
      "metadata": {
        "id": "W15qImFWzSVZ"
      },
      "execution_count": null,
      "outputs": []
    },
    {
      "cell_type": "markdown",
      "source": [
        "# Bonus Use Case. Text To Speech\n",
        "\n",
        "[![Open In Colab](https://colab.research.google.com/assets/colab-badge.svg)](https://colab.research.google.com/github/reddit/kdd2024-tutorial-breaking-barriers/blob/master/Bonus_Use_Case_Text_to_Speech.ipynb)"
      ],
      "metadata": {
        "id": "7rlH-wrbyTRW"
      }
    },
    {
      "cell_type": "markdown",
      "source": [
        "## Overview\n",
        "\n",
        "This notebook provides a hands-on guide to deploying and prompting several text-to-speech model pipelines, as a bonus use case for increasing accessibility."
      ],
      "metadata": {
        "id": "g-7W4aKIcQfR"
      }
    },
    {
      "cell_type": "markdown",
      "source": [
        "---\n",
        "\n",
        "## Setting Up Google Colab\n",
        "Google Colab provides a convenient platform to run Python code in the cloud, with access to powerful computing resources, including GPUs. For this tutorial, it is recommended to enable GPU acceleration:\n",
        "\n",
        "1.   Click on *Runtime* in the top menu.\n",
        "2.   Select *Change runtime type*.\n",
        "3.   In the dialog that appears, under *Hardware accelerator*, choose **T4 GPU** (or any other GPU that you may have access to) if it is not already enabled.\n",
        "4.   Click *Save*."
      ],
      "metadata": {
        "id": "IxSl4uD2dDSS"
      }
    },
    {
      "cell_type": "markdown",
      "source": [
        "---\n",
        "\n",
        "## Requirements\n",
        "\n",
        "The code in this notebook is based on Transformers and hugging face datasets, so we need to install all necessary requirements.\n",
        "\n",
        "**❗Important❗** You may need to restart the Colab session after the *datasets* library has been installed. To do so, go to **Runtime** menu, click on *Restart session* and finally run the cells from the **Settings** section."
      ],
      "metadata": {
        "id": "86ix3ofBdkCs"
      }
    },
    {
      "cell_type": "code",
      "source": [
        "!pip -q install datasets"
      ],
      "metadata": {
        "id": "VHP1vCb19nZB"
      },
      "execution_count": null,
      "outputs": []
    },
    {
      "cell_type": "markdown",
      "source": [
        "---\n",
        "\n",
        "## Settings\n",
        "\n",
        "Run the following cells to make some convenient settings."
      ],
      "metadata": {
        "id": "1n3C8oOaylrV"
      }
    },
    {
      "cell_type": "code",
      "source": [
        "# Disable Transformer warnings\n",
        "import logging\n",
        "logging.basicConfig(level=logging.INFO)\n",
        "\n",
        "import transformers\n",
        "transformers.logging.set_verbosity_error()\n",
        "\n",
        "import warnings\n",
        "warnings.filterwarnings('ignore')\n",
        "\n",
        "# Set GPU device\n",
        "import torch\n",
        "torch.set_default_device(\"cuda\") # or \"cpu\" is GPU is not available"
      ],
      "metadata": {
        "id": "haCP5RR_-Uh1"
      },
      "execution_count": null,
      "outputs": []
    },
    {
      "cell_type": "markdown",
      "source": [
        "Some useful imports:"
      ],
      "metadata": {
        "id": "WoodxQ8z2jwo"
      }
    },
    {
      "cell_type": "code",
      "source": [
        "from IPython.display import Audio\n",
        "from datasets import load_dataset\n",
        "from transformers import SpeechT5Processor\n",
        "from transformers import SpeechT5ForTextToSpeech\n",
        "from transformers import SpeechT5HifiGan\n",
        "from transformers import BarkModel\n",
        "from transformers import AutoProcessor"
      ],
      "metadata": {
        "id": "dvlxlK7k9H-l"
      },
      "execution_count": null,
      "outputs": []
    },
    {
      "cell_type": "markdown",
      "source": [
        "### Check if we're using CPU or GPU"
      ],
      "metadata": {
        "id": "IbXFQLb6NO0M"
      }
    },
    {
      "cell_type": "code",
      "source": [
        "device = \"cuda\" if torch.cuda.is_available() else \"cpu\"\n",
        "print(f\"Using {device} device\")"
      ],
      "metadata": {
        "id": "PzWTLipDNVHk"
      },
      "execution_count": null,
      "outputs": []
    },
    {
      "cell_type": "markdown",
      "source": [
        "---\n",
        "\n",
        "## Model 1: SpeechT5\n",
        "\n",
        "SpeechT5 model [1] can handle a bunch of speech-related tasks, but here we will focus on the text-to-speech (TTS) task. The output is a log mel spectrogram, but we need the output to be a waveform. The way of doing it is by using an additional neural network known as a vcoder.\n",
        "\n",
        "#### **References**\n",
        "[1] Junyi Ao, Rui Wang, Long Zhou, Chengyi Wang, Shuo Ren, Yu Wu, Shujie Liu, Tom Ko, Qing Li, Yu Zhang, Zhihua Wei, Yao Qian, Jinyu Li, and Furu Wei. SpeechT5: Unified-Modal Encoder-Decoder Pre-Training for Spoken Language Processing. [arXiv:2310.03744](https://arxiv.org/abs/2110.07205) [cs.CV]"
      ],
      "metadata": {
        "id": "_zn-BLj5AAV7"
      }
    },
    {
      "cell_type": "markdown",
      "source": [
        "### Load the SpeechT5 TTS model"
      ],
      "metadata": {
        "id": "W9s7z6QxBwX4"
      }
    },
    {
      "cell_type": "code",
      "source": [
        "processor = SpeechT5Processor.from_pretrained(\"microsoft/speecht5_tts\")\n",
        "model = SpeechT5ForTextToSpeech.from_pretrained(\"microsoft/speecht5_tts\").to(device)"
      ],
      "metadata": {
        "id": "7vZBoQSo4K4h"
      },
      "execution_count": null,
      "outputs": []
    },
    {
      "cell_type": "markdown",
      "source": [
        "### Test Post\n",
        "\n",
        "The [r/stories](https://www.reddit.com/r/stories/) subreddit provides interesting high quality posts. For this purpose we are going to use a fragment of [this post](https://www.reddit.com/r/stories/comments/1dnd5h0/i_found_an_endless_hole_on_some_land_i_recently/), but **go ahead and try your own texts!**"
      ],
      "metadata": {
        "id": "Y94P4tuUB2t0"
      }
    },
    {
      "cell_type": "code",
      "source": [
        "text = \"\"\"\n",
        "I recently bought some land and a small cabin on the outskirts of Frost Hollow. The town had been in decline for decades. A constant stream of businesses and people left Frost Hollow every year. I heard rumors about high missing persons rates as well as insane homicide and suicide rates that plagued the town constantly. This didn’t bother me in the least, however. In my mind, it just meant the land there was dirt-cheap, and that I wouldn’t have too many neighbors to worry about.\n",
        "\n",
        "My closest neighbor, Art, was a sheep farmer, an ancient man with a cantankerous voice and a back like a broken board. He stood only about five feet tall, always wearing his trademark blue coveralls and a wide-brim hat. When I first found the hole, I tried shining a light down and then throwing heavy rocks inside. When only silence greeted me after a minute, I quickly realized that neither method would help me realize the depth of the hole.\n",
        "\"\"\""
      ],
      "metadata": {
        "id": "voOVLAiG_YKB"
      },
      "execution_count": null,
      "outputs": []
    },
    {
      "cell_type": "markdown",
      "source": [
        "### Preprocess the text\n",
        "\n",
        "The max input size for this specific model is 600 characters, so we need to cut the input to fit the model needs. We can concatenate multiple model outputs to obtain larger audios."
      ],
      "metadata": {
        "id": "Eq5vmKndDW84"
      }
    },
    {
      "cell_type": "code",
      "source": [
        "inputs = processor(text=text[:600], return_tensors=\"pt\").to(device)"
      ],
      "metadata": {
        "id": "bdDGWTv05Ww8"
      },
      "execution_count": null,
      "outputs": []
    },
    {
      "cell_type": "markdown",
      "source": [
        "### Load the speaker **xVectors**\n",
        "\n",
        "One of the best features from SpeechT5 is that the model is not limited to creating speech for a single speaker. You can use *speaker embeddings* that capture the characteristics of a particular speaker voice to apply it to your text.\n",
        "\n",
        "For this particular example, we will be using the X-Vectors [1] from the [CMU ARCTIC dataset](http://www.festvox.org/cmu_arctic/) (note that this specific dataset is trained only with english language). We will download multiple speaker embeddings so we can try different speaker voices.\n",
        "\n",
        "#### **References**\n",
        "D. Snyder, D. Garcia-Romero, G. Sell, D. Povey and S. Khudanpur. X-Vectors: Robust DNN Embeddings for Speaker Recognition. 2018 IEEE International Conference on Acoustics, Speech and Signal Processing (ICASSP), Calgary, AB, Canada, 2018, pp. 5329-5333, doi: [10.1109/ICASSP.2018.8461375](https://www.danielpovey.com/files/2018_icassp_xvectors.pdf)."
      ],
      "metadata": {
        "id": "_miAZCLEDer1"
      }
    },
    {
      "cell_type": "code",
      "source": [
        "embeddings_dataset = load_dataset(\"Matthijs/cmu-arctic-xvectors\", split=\"validation\")\n",
        "\n",
        "woman_speaker_embeddings = torch.tensor(embeddings_dataset[7306][\"xvector\"]).unsqueeze(0).to(device)\n",
        "man_speaker_embeddings = torch.tensor(embeddings_dataset[1500][\"xvector\"]).unsqueeze(0).to(device)"
      ],
      "metadata": {
        "id": "QGwopDSO4MI2"
      },
      "execution_count": null,
      "outputs": []
    },
    {
      "cell_type": "markdown",
      "source": [
        "### Use a Vcoder to get the results in waveform\n"
      ],
      "metadata": {
        "id": "jjAiZezsFfsY"
      }
    },
    {
      "cell_type": "code",
      "source": [
        "vocoder = SpeechT5HifiGan.from_pretrained(\"microsoft/speecht5_hifigan\").to(device)"
      ],
      "metadata": {
        "id": "gW2nop7B-i2_"
      },
      "execution_count": null,
      "outputs": []
    },
    {
      "cell_type": "markdown",
      "source": [
        "### Generate the speech"
      ],
      "metadata": {
        "id": "BRFlD774F0Oo"
      }
    },
    {
      "cell_type": "markdown",
      "source": [
        "\n",
        "#### With female voice"
      ],
      "metadata": {
        "id": "e7aAfL6z39Jc"
      }
    },
    {
      "cell_type": "code",
      "source": [
        "speech = model.generate_speech(inputs[\"input_ids\"], woman_speaker_embeddings, vocoder=vocoder).cpu()\n",
        "Audio(speech, rate=16000)"
      ],
      "metadata": {
        "id": "-WjDvtT9-eA9"
      },
      "execution_count": null,
      "outputs": []
    },
    {
      "cell_type": "markdown",
      "source": [
        "#### With male voice"
      ],
      "metadata": {
        "id": "naH-9DqnGehU"
      }
    },
    {
      "cell_type": "code",
      "source": [
        "speech = model.generate_speech(inputs[\"input_ids\"], man_speaker_embeddings, vocoder=vocoder).cpu()\n",
        "Audio(speech, rate=16000)"
      ],
      "metadata": {
        "id": "_55x3KthGhow"
      },
      "execution_count": null,
      "outputs": []
    },
    {
      "cell_type": "markdown",
      "source": [
        "## Model 2: Bark\n",
        "\n",
        "Bark [1] is a transformer-based text-to-audio model created by Suno. Bark can generate highly realistic, multilingual speech as well as other audio - including music, background noise and simple sound effects. The model can also produce nonverbal communications like laughing, sighing and crying.\n",
        "\n",
        "- [GitHub Project](https://github.com/suno-ai/bark)\n",
        "- [Model in Huggingface Hub](https://huggingface.co/suno/bark)\n",
        "\n",
        "![bark.gif](data:image/gif;base64,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)\n"
      ],
      "metadata": {
        "id": "IiW8U4suHkx0"
      }
    },
    {
      "cell_type": "markdown",
      "source": [
        "\n",
        "Unlike SpeechT5, bark generates waveforms directly, so we don't need to use vcoders to obtain the final audio results (it's not that it doesn't use vcoders, but it's already integrated into the model itself).\n",
        "\n",
        "\n"
      ],
      "metadata": {
        "id": "yAkEuOttIIg_"
      }
    },
    {
      "cell_type": "code",
      "source": [
        "model = BarkModel.from_pretrained(\"suno/bark-small\").to(device)\n",
        "processor = AutoProcessor.from_pretrained(\"suno/bark-small\")"
      ],
      "metadata": {
        "id": "3ct5Ztw3_Lc7"
      },
      "execution_count": null,
      "outputs": []
    },
    {
      "cell_type": "markdown",
      "source": [
        "### Text preprocessing\n",
        "\n",
        "We will be using the same example text as in SpeechT5.\n",
        "\n",
        "The best thing about bark is that we already have a preset libraries for\n",
        "defining speaker characteristics in **multiple languages** that can be found [here](https://suno-ai.notion.site/8b8e8749ed514b0cbf3f699013548683?v=bc67cff786b04b50b3ceb756fd05f68c).\n",
        "\n"
      ],
      "metadata": {
        "id": "P28YKu7sKFKK"
      }
    },
    {
      "cell_type": "code",
      "source": [
        "# add a speaker embedding\n",
        "inputs = processor(text, voice_preset=\"v2/en_speaker_6\").to(device)"
      ],
      "metadata": {
        "id": "B0lkGMIZyKf2"
      },
      "execution_count": null,
      "outputs": []
    },
    {
      "cell_type": "markdown",
      "source": [
        "### Generate model outputs"
      ],
      "metadata": {
        "id": "3US5y2xOMzYy"
      }
    },
    {
      "cell_type": "code",
      "source": [
        "speech_output = model.generate(**inputs).cpu().numpy()"
      ],
      "metadata": {
        "id": "42WzWcJXbyOL"
      },
      "execution_count": null,
      "outputs": []
    },
    {
      "cell_type": "code",
      "source": [
        "sampling_rate = model.generation_config.sample_rate\n",
        "Audio(speech_output[0], rate=sampling_rate)"
      ],
      "metadata": {
        "id": "rMHlT2iyjY7Z"
      },
      "execution_count": null,
      "outputs": []
    },
    {
      "cell_type": "markdown",
      "source": [
        "The coolest thing about bark is that you can include some special patterns to emulate some speaker *actions* like:\n",
        "\n",
        "* [laughter]\n",
        "* [laughs]\n",
        "* [sighs]\n",
        "* [music]\n",
        "* [gasps]\n",
        "* [clears throat]\n",
        "* — or ... for hesitations\n",
        "* ♪ for song lyrics\n",
        "* CAPITALIZATION for emphasis of a word\n",
        "* [MAN] and [WOMAN] to bias Bark toward male and female speakers, respectively (even though if you choose a voice preset this won't be needed unless you want to emulate a conversation between multiple characters)\n",
        "\n",
        "This patterns are not something that the creators intended to create, these patterns have been discovered afterwards when people started using the model. So if you discover any new one, [let them know!](https://github.com/suno-ai/bark?tab=readme-ov-file#%EF%B8%8F-details)\n"
      ],
      "metadata": {
        "id": "qtBgziO-Su_J"
      }
    },
    {
      "cell_type": "markdown",
      "source": [
        "### Model testing\n",
        "\n",
        "This is a simple class to play with the model and its different possibilities with ease.\n"
      ],
      "metadata": {
        "id": "9tpLqr4wT-ut"
      }
    },
    {
      "cell_type": "code",
      "source": [
        "class BarkModelTester:\n",
        "  def __init__(self, model, processor):\n",
        "    self.model = model\n",
        "    self.processor = processor\n",
        "\n",
        "  def generate_speech(self, text, voice_preset=\"v2/en_speaker_6\", **kwargs):\n",
        "    inputs = self.processor(text, voice_preset=voice_preset).to(device)\n",
        "    speech_output = self.model.generate(**inputs).cpu().numpy()\n",
        "    sampling_rate = model.generation_config.sample_rate\n",
        "    return Audio(speech_output[0], rate=sampling_rate)"
      ],
      "metadata": {
        "id": "_6_SqKM1Sbtr"
      },
      "execution_count": null,
      "outputs": []
    },
    {
      "cell_type": "code",
      "source": [
        "# Load model\n",
        "bark_model = BarkModelTester(model, processor)"
      ],
      "metadata": {
        "id": "VbOJLsxJUsat"
      },
      "execution_count": null,
      "outputs": []
    },
    {
      "cell_type": "code",
      "source": [
        "# Test 1\n",
        "bark_model.generate_speech(\"HELLO, I'm Bark!\")"
      ],
      "metadata": {
        "id": "0O_9sVCQU0-J"
      },
      "execution_count": null,
      "outputs": []
    },
    {
      "cell_type": "code",
      "source": [
        "# Test 2\n",
        "bark_model.generate_speech(\"Who let the dogs out? (Who, who, who, who, who?)\")"
      ],
      "metadata": {
        "id": "iboNtnVqU3uH"
      },
      "execution_count": null,
      "outputs": []
    },
    {
      "cell_type": "code",
      "source": [
        "# Text in Spanish\n",
        "es_text = \"En un lugar de la Mancha, de cuyo nombre no quiero acordarme, no ha mucho tiempo que vivía un hidalgo de los de lanza en astillero, adarga antigua, rocín flaco y galgo corredor.\""
      ],
      "metadata": {
        "id": "ViCoUKAUYItD"
      },
      "execution_count": null,
      "outputs": []
    },
    {
      "cell_type": "code",
      "source": [
        "bark_model.generate_speech(es_text, \"v2/es_speaker_9\")"
      ],
      "metadata": {
        "id": "5G5vYtypVVbw"
      },
      "execution_count": null,
      "outputs": []
    },
    {
      "cell_type": "code",
      "source": [
        "bark_model.generate_speech(es_text, \"v2/es_speaker_0\")"
      ],
      "metadata": {
        "id": "jfQRMvI5XesY"
      },
      "execution_count": null,
      "outputs": []
    },
    {
      "cell_type": "markdown",
      "source": [
        "# Discussion: How Text to Speech Generation with Multimodal LLMs can improve Accessibility in Social Media\n",
        "\n",
        "- **Overcoming Text Barriers**: LLMs provide access to individuals with reading disabilities like dyslexia, and allows consumption of text-heavy content for those with visual impairments or fatigue, making social media participation easier.\n",
        "- **Enhancing Content Consumption**: Offers alternative ways to experience social media for users with different learning styles (auditory learners). Enables multitasking by listening to content while engaging in other activities.\n",
        "\n",
        "- **Promoting Inclusivity & Engagement**: Allows users with speech impairments to participate more actively by converting their generated text to speech.\n",
        "\n",
        "- **Harnessing Multimodal Capabilities**: Enables emotionally nuanced speech synthesis by incorporating visual cues from images or videos in the post.\n",
        "\n",
        "- **Personalized Experience**: Users could customize voice, language, and speaking speed to their preferences, thus offering a more engaging and enjoyable social media experience for everyone."
      ],
      "metadata": {
        "id": "_xzCSiRi5Tdn"
      }
    }
  ]
}